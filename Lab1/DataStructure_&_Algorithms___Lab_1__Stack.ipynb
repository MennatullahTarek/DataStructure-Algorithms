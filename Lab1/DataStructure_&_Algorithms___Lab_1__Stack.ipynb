{
  "nbformat": 4,
  "nbformat_minor": 0,
  "metadata": {
    "colab": {
      "provenance": []
    },
    "kernelspec": {
      "name": "python3",
      "display_name": "Python 3"
    },
    "language_info": {
      "name": "python"
    }
  },
  "cells": [
    {
      "cell_type": "markdown",
      "source": [
        "# <p style=\"padding:10px;background-color:#7d053f;margin:0;color:white;font-family:newtimeroman;font-size:150%;text-align:center;border-radius: 15px 50px;overflow:hidden;font-weight:500\"> Stack </p>"
      ],
      "metadata": {
        "id": "4jP4WLVi8HHT"
      }
    },
    {
      "cell_type": "markdown",
      "source": [
        "<div style = 'border : 3px solid #7d053f; background-color:#f5efef;padding:10px'>\n",
        "\n",
        "- ###  <span style=\"color:#7d053f\"> save a `stack` of nodes\n",
        " - 1 side linked list ? `push`, `pop` for nodes  <br>\n",
        " - if the ode is empty raise a message that `the stack is empty`\n",
        "</span>"
      ],
      "metadata": {
        "id": "MsG9wakODwdB"
      }
    },
    {
      "cell_type": "code",
      "execution_count": 3,
      "metadata": {
        "id": "zmgiSADt7Fn7"
      },
      "outputs": [],
      "source": [
        "#Node implement\n",
        "class Node :\n",
        "  def __init__(self, data):\n",
        "    self.data = data\n",
        "    self.prev = None"
      ]
    },
    {
      "cell_type": "code",
      "source": [
        "#Stack implement\n",
        "class Stack :\n",
        "  def __init__(self):\n",
        "    self.tail = None\n",
        "\n",
        "  #push:\n",
        "  '''insert data at the top of the stack'''\n",
        "  def push (self, data):\n",
        "    node = Node(data)\n",
        "    #stack is empty\n",
        "    if (self.tail == None):\n",
        "      self.tail = node\n",
        "    #There are elements\n",
        "    else:\n",
        "      node.prev = self.tail\n",
        "      self.tail = node\n",
        "\n",
        "\n",
        "  #pop:\n",
        "  '''retrive data from the top of the stack, if the stack is empty print (stack is empty)'''\n",
        "  def pop (self):\n",
        "    poped = -1\n",
        "    #stack is empty\n",
        "    if (self.tail == None):\n",
        "      print(\"The stack is empty '-' \")\n",
        "    #There are elements\n",
        "    else:\n",
        "      poped = self.tail.data\n",
        "      self.tail = self.tail.prev\n",
        "    return poped\n"
      ],
      "metadata": {
        "id": "uq9KS3gOLuR3"
      },
      "execution_count": 4,
      "outputs": []
    },
    {
      "cell_type": "code",
      "source": [
        "s = Stack ()"
      ],
      "metadata": {
        "id": "mSJaqGdxP8qX"
      },
      "execution_count": 13,
      "outputs": []
    },
    {
      "cell_type": "code",
      "source": [
        "s.push(1)"
      ],
      "metadata": {
        "id": "0ETuvVfLQHGW"
      },
      "execution_count": 14,
      "outputs": []
    },
    {
      "cell_type": "code",
      "source": [
        "s.push(2)"
      ],
      "metadata": {
        "id": "SNm9f5kdQKxS"
      },
      "execution_count": 15,
      "outputs": []
    },
    {
      "cell_type": "code",
      "source": [
        "s.pop()"
      ],
      "metadata": {
        "colab": {
          "base_uri": "https://localhost:8080/"
        },
        "id": "dojhYKZsQS88",
        "outputId": "770ebdbc-2157-4ada-bfb5-cb026484acea"
      },
      "execution_count": 16,
      "outputs": [
        {
          "output_type": "execute_result",
          "data": {
            "text/plain": [
              "2"
            ]
          },
          "metadata": {},
          "execution_count": 16
        }
      ]
    },
    {
      "cell_type": "code",
      "source": [
        "s.pop()"
      ],
      "metadata": {
        "colab": {
          "base_uri": "https://localhost:8080/"
        },
        "id": "dElyBBwAQWX-",
        "outputId": "bcd03896-465e-4ba9-b977-75e02bc99201"
      },
      "execution_count": 17,
      "outputs": [
        {
          "output_type": "execute_result",
          "data": {
            "text/plain": [
              "1"
            ]
          },
          "metadata": {},
          "execution_count": 17
        }
      ]
    },
    {
      "cell_type": "code",
      "source": [
        "s.pop()"
      ],
      "metadata": {
        "colab": {
          "base_uri": "https://localhost:8080/"
        },
        "id": "rwVY429QQbz9",
        "outputId": "c87c80f9-ead9-48eb-8408-76b4a70acbd8"
      },
      "execution_count": 18,
      "outputs": [
        {
          "output_type": "stream",
          "name": "stdout",
          "text": [
            "The stack is empty '-' \n"
          ]
        },
        {
          "output_type": "execute_result",
          "data": {
            "text/plain": [
              "-1"
            ]
          },
          "metadata": {},
          "execution_count": 18
        }
      ]
    }
  ]
}