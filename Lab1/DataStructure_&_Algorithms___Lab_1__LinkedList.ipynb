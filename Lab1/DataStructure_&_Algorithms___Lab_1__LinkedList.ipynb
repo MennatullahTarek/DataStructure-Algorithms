{
  "nbformat": 4,
  "nbformat_minor": 0,
  "metadata": {
    "colab": {
      "provenance": []
    },
    "kernelspec": {
      "name": "python3",
      "display_name": "Python 3"
    },
    "language_info": {
      "name": "python"
    }
  },
  "cells": [
    {
      "cell_type": "markdown",
      "source": [
        "# <p style=\"padding:10px;background-color:#7d053f;margin:0;color:white;font-family:newtimeroman;font-size:150%;text-align:center;border-radius: 15px 50px;overflow:hidden;font-weight:500\">Linked List </p>"
      ],
      "metadata": {
        "id": "qY6PtFutPWWP"
      }
    },
    {
      "cell_type": "markdown",
      "source": [
        "<div style = 'border : 3px solid #7d053f; background-color:#f5efef;padding:10px'>\n",
        "\n",
        "- ###  <span style=\"color:#7d053f\"> implement a `linked list` for nodes <br>\n",
        "`node`: have employee number, name, position.\n",
        " - Insert data\n",
        " - update data\n",
        " - delete by (id)\n",
        " - update by (id)\n",
        " - display all\n",
        " - delete all\n",
        "</span>"
      ],
      "metadata": {
        "id": "nknMIYpyPs4R"
      }
    },
    {
      "cell_type": "code",
      "source": [
        "#Node implement\n",
        "class Node :\n",
        "  def __init__(self, id, name, position):\n",
        "    self.id = id\n",
        "    self.name = name\n",
        "    self.position = position\n",
        "    self.next = None\n",
        "    self.prev = None"
      ],
      "metadata": {
        "id": "wcm11BHUQOBB"
      },
      "execution_count": 11,
      "outputs": []
    },
    {
      "cell_type": "code",
      "source": [
        "#Linked List implement\n",
        "class LinkedList :\n",
        "  def __init__(self):\n",
        "    self.head = None\n",
        "    self.tail = None\n",
        "\n",
        "\n",
        "#insert data by location:\n",
        "  '''insert in specific location (Zero based),\n",
        "     if location not found: insert at the end.'''\n",
        "\n",
        "  def insert_location (self, loc, id, name, position):\n",
        "   node = Node(id ,name ,position)\n",
        "    #empty list\n",
        "   if (self.head == None):\n",
        "      self.head = node\n",
        "      self.tail = node\n",
        "\n",
        "    #there is a list\n",
        "   else:\n",
        "      #insert at first\n",
        "      if (loc == 0):\n",
        "        self.head.prev = node\n",
        "        node.next = self.head\n",
        "        self.head = node\n",
        "\n",
        "      #insert in middle or at the end\n",
        "      else:\n",
        "        i = 0\n",
        "        cur = self.head\n",
        "        while (i < loc-1 and cur != None):\n",
        "          cur = cur.next\n",
        "          i = i+1\n",
        "        if (cur == self.tail or cur == None):      #insert at the end\n",
        "          self.tail.next = node\n",
        "          node.prev = self.tail\n",
        "          self.tail = node\n",
        "        else:                                       #insert in middle\n",
        "          cur.next.prev = node\n",
        "          node.next = cur.next\n",
        "          cur.next = node\n",
        "          node.prev = cur\n",
        "\n",
        "#-------------------------------------------------------------------------------------------------------\n",
        "\n",
        "#update data by location:\n",
        "  '''update data by specific location (Zero based),\n",
        "   if location not found or list is empty return false. '''\n",
        "\n",
        "  def update_location (self , loc, id, name, position):\n",
        "    updated = False\n",
        "    #list not empty\n",
        "    if (self.head != None):\n",
        "      i = 0\n",
        "      cur = self.head\n",
        "      while (i < loc and cur != None):\n",
        "        cur = cur.next\n",
        "        i = i+1\n",
        "      #There is a location\n",
        "      if (cur != None):\n",
        "        cur.id = id\n",
        "        cur.name = name\n",
        "        cur.position = position\n",
        "        updated = True\n",
        "    return updated\n",
        "\n",
        "#---------------------------------------------------------------------------------------------------------\n",
        "\n",
        "#delete by (id):\n",
        "  '''delete data by id ,\n",
        "     if id not found or list is empty return false. '''\n",
        "\n",
        "  def delete_id (self, id):\n",
        "    deleted = False\n",
        "    #list not empty\n",
        "    if (self.head != None):\n",
        "      cur = self.head\n",
        "      while (cur.id != id and cur != None):\n",
        "        cur = cur.next\n",
        "\n",
        "      #There is an id\n",
        "      if (cur != None):\n",
        "        #delete first node\n",
        "        if (cur == self.head):\n",
        "          #only one node\n",
        "          if (self.head == self.tail):\n",
        "            self.head = None\n",
        "            self.tail = None\n",
        "          #not the only  node\n",
        "          else:\n",
        "            self.head = self.head.next\n",
        "            self.head.prev = None\n",
        "        #delete last node\n",
        "        elif (cur == self.tail):\n",
        "          self.tail = self.tail.prev\n",
        "          self.tail.next = None\n",
        "        #node in the middle\n",
        "        else:\n",
        "          cur.prev.next = cur.next\n",
        "          cur.next.prev = cur.prev\n",
        "        deleted = True\n",
        "\n",
        "    return deleted\n",
        "\n",
        "#-------------------------------------------------------------------------------------------------------\n",
        "\n",
        "#update by (id):\n",
        "  '''update data by id,\n",
        "   if id not found or list is empty return false. '''\n",
        "\n",
        "  def update_id(self, id, name, position):\n",
        "    updated = False\n",
        "    #list not empty\n",
        "    if (self.head != None):\n",
        "      cur = self.head\n",
        "      while (cur.id != id and cur != None):\n",
        "        cur = cur.next\n",
        "\n",
        "      #There is an id\n",
        "      if (cur != None):\n",
        "        cur.name = name\n",
        "        cur.position = position\n",
        "        updated = True\n",
        "    return updated\n",
        "\n",
        "#-------------------------------------------------------------------------------------------------------\n",
        "\n",
        "#display all:\n",
        "  '''display all list elements,\n",
        "     if list is empty print (your list is empty)'''\n",
        "\n",
        "  def display_all(self):\n",
        "    #empty list\n",
        "    if (self.head == None):\n",
        "      print(\"Your list is empty '-' \")\n",
        "    #not empty\n",
        "    else:\n",
        "      cur = self.head\n",
        "      while (cur!=None):\n",
        "        print(f\"id: {cur.id}, name: {cur.name}, position: {cur.position}\")\n",
        "        cur = cur.next\n",
        "\n",
        "#-------------------------------------------------------------------------------------------------------\n",
        "\n",
        "#delete all:\n",
        "  '''delete all list elements and print (deleted successfully)'''\n",
        "\n",
        "  def delete_all(self):\n",
        "    self.head = None\n",
        "    self.tail = None\n",
        "    print(\"Deleted successfully  ^-^ \")\n",
        ""
      ],
      "metadata": {
        "id": "9L_lNB25QwcN"
      },
      "execution_count": 33,
      "outputs": []
    },
    {
      "cell_type": "code",
      "source": [
        "ls = LinkedList()\n",
        "ls.insert_location ( 0, 1, 'menna', 'ceo')\n",
        "ls.insert_location ( 1, 2, 'menna', 'ceo')\n",
        "ls.insert_location ( 0, 0, 'menna', 'ceo')"
      ],
      "metadata": {
        "id": "_7hO0IYWp1un"
      },
      "execution_count": 46,
      "outputs": []
    },
    {
      "cell_type": "code",
      "source": [
        "ls.delete_id(0)"
      ],
      "metadata": {
        "colab": {
          "base_uri": "https://localhost:8080/"
        },
        "id": "_mz4qbdwqYu-",
        "outputId": "68149dc7-a445-4645-bcd6-939e7d601b5b"
      },
      "execution_count": 47,
      "outputs": [
        {
          "output_type": "execute_result",
          "data": {
            "text/plain": [
              "True"
            ]
          },
          "metadata": {},
          "execution_count": 47
        }
      ]
    },
    {
      "cell_type": "code",
      "source": [
        "ls.update_location(0, 0, \"nada\" , \"secretary\")"
      ],
      "metadata": {
        "colab": {
          "base_uri": "https://localhost:8080/"
        },
        "id": "8IzCNkDmr_27",
        "outputId": "ab6e7671-4791-4326-f62c-a29bf2208b57"
      },
      "execution_count": 48,
      "outputs": [
        {
          "output_type": "execute_result",
          "data": {
            "text/plain": [
              "True"
            ]
          },
          "metadata": {},
          "execution_count": 48
        }
      ]
    },
    {
      "cell_type": "code",
      "source": [
        "ls.display_all()"
      ],
      "metadata": {
        "colab": {
          "base_uri": "https://localhost:8080/"
        },
        "id": "wPGnaTbJ1WHY",
        "outputId": "b978ef3a-cd35-49b3-f288-fa095dad97bf"
      },
      "execution_count": 49,
      "outputs": [
        {
          "output_type": "stream",
          "name": "stdout",
          "text": [
            "id: 0, name: nada, position: secretary\n",
            "id: 2, name: menna, position: ceo\n"
          ]
        }
      ]
    },
    {
      "cell_type": "code",
      "source": [
        "ls.delete_all()"
      ],
      "metadata": {
        "colab": {
          "base_uri": "https://localhost:8080/"
        },
        "id": "BpoQUqBk3j6X",
        "outputId": "957bad7d-a096-47a3-a89e-576e30f63e0a"
      },
      "execution_count": 50,
      "outputs": [
        {
          "output_type": "stream",
          "name": "stdout",
          "text": [
            "Deleted successfully  ^-^ \n"
          ]
        }
      ]
    }
  ]
}