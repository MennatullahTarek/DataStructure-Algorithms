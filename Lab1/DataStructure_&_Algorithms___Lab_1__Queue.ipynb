{
  "nbformat": 4,
  "nbformat_minor": 0,
  "metadata": {
    "colab": {
      "provenance": []
    },
    "kernelspec": {
      "name": "python3",
      "display_name": "Python 3"
    },
    "language_info": {
      "name": "python"
    }
  },
  "cells": [
    {
      "cell_type": "markdown",
      "source": [
        "# <p style=\"padding:10px;background-color:#7d053f;margin:0;color:white;font-family:newtimeroman;font-size:150%;text-align:center;border-radius: 15px 50px;overflow:hidden;font-weight:500\"> Queue </p>"
      ],
      "metadata": {
        "id": "C88VD8od8TmF"
      }
    },
    {
      "cell_type": "markdown",
      "source": [
        "<div style = 'border : 3px solid #7d053f; background-color:#f5efef;padding:10px'>\n",
        "\n",
        "- ###  <span style=\"color:#7d053f\">  implement `queue` of nodes\n",
        " - `enqueue`, `dequeue` the nodes in the queue\n",
        " - the queue `has size` --> nodes are employees(number, name, position)\n",
        "</span>"
      ],
      "metadata": {
        "id": "HIFFgkCcFDG7"
      }
    },
    {
      "cell_type": "code",
      "execution_count": 1,
      "metadata": {
        "id": "fk9R5F4f7YkS"
      },
      "outputs": [],
      "source": [
        "#Node implement\n",
        "class Node :\n",
        "  def __init__(self, id, name, position):\n",
        "    self.id = id\n",
        "    self.name = name\n",
        "    self.position = position"
      ]
    },
    {
      "cell_type": "code",
      "source": [
        "# Queue implement\n",
        "class Queue :\n",
        "  def __init__(self, size=10):\n",
        "    self.Ar = []\n",
        "    self.size = size\n",
        "    self.Qsize = 0\n",
        "\n",
        "\n",
        "  #enqueue:\n",
        "  '''insert data into the  queue'''\n",
        "  def enqueue (self, node):\n",
        "    added = False\n",
        "    #queue is not full\n",
        "    if (self.Qsize < self.size):\n",
        "      self.Ar.append(node)\n",
        "      self.Qsize = self.Qsize+1\n",
        "      added = True\n",
        "    return added\n",
        "\n",
        "  #deque:\n",
        "  '''retrive data from the queue'''\n",
        "  def dequeue (self):\n",
        "    #queue is not empty\n",
        "    if (self.Qsize > 0):\n",
        "      node = self.Ar.pop(0)\n",
        "      self.Qsize = self.Qsize-1\n",
        "      return node\n",
        "    else:\n",
        "      return None\n",
        "\n",
        "\n"
      ],
      "metadata": {
        "id": "tAYOc4Q1byNF"
      },
      "execution_count": 14,
      "outputs": []
    },
    {
      "cell_type": "code",
      "source": [
        "q = Queue()"
      ],
      "metadata": {
        "id": "yTPtCkzch8bT"
      },
      "execution_count": 15,
      "outputs": []
    },
    {
      "cell_type": "code",
      "source": [
        "q.enqueue(Node(0,\"menna\",\"ceo\"))\n",
        "q.enqueue(Node(1,\"nada\",\"trainee\"))"
      ],
      "metadata": {
        "colab": {
          "base_uri": "https://localhost:8080/"
        },
        "id": "HbuYHD-biBjn",
        "outputId": "a9cf1779-9fb4-46ce-e3bc-401e75986ca1"
      },
      "execution_count": 18,
      "outputs": [
        {
          "output_type": "execute_result",
          "data": {
            "text/plain": [
              "True"
            ]
          },
          "metadata": {},
          "execution_count": 18
        }
      ]
    },
    {
      "cell_type": "code",
      "source": [
        "node = q.dequeue()\n",
        "print (f\"id: {node.id} , name:{node.name} , position: {node.position} \")"
      ],
      "metadata": {
        "colab": {
          "base_uri": "https://localhost:8080/"
        },
        "id": "WhVSkN1IiSDP",
        "outputId": "e20eb591-df4b-4c40-bf13-7aeed31e6d04"
      },
      "execution_count": 19,
      "outputs": [
        {
          "output_type": "stream",
          "name": "stdout",
          "text": [
            "id: 0 , name:menna , position: ceo \n"
          ]
        }
      ]
    }
  ]
}